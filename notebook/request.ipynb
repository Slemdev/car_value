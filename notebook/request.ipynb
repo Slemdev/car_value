{
 "cells": [
  {
   "cell_type": "code",
   "execution_count": 100,
   "metadata": {},
   "outputs": [],
   "source": [
    "import pandas as pd\n",
    "import seaborn as sns\n",
    "from sklearn.linear_model import LinearRegression\n",
    "from sklearn.model_selection import train_test_split\n",
    "import matplotlib.pyplot as plt"
   ]
  },
  {
   "cell_type": "code",
   "execution_count": 106,
   "metadata": {},
   "outputs": [],
   "source": [
    "# import du csv dans le dataframe\n",
    "df = pd.read_csv(\"../database/carprice-assignment-6447798486dfd210498974.csv\", index_col=0)\n"
   ]
  },
  {
   "cell_type": "code",
   "execution_count": 107,
   "metadata": {},
   "outputs": [],
   "source": [
    "# df.describe()l\n",
    "# df.cov()\n",
    "# df.corr()\n",
    "# df.head(1)\n",
    "#df.shape\n",
    "#df.columns"
   ]
  },
  {
   "cell_type": "code",
   "execution_count": 108,
   "metadata": {},
   "outputs": [],
   "source": [
    "# r = 6.382176e+07 / ( 7988.852332 * 6.886443\t)\n",
    "# r"
   ]
  },
  {
   "cell_type": "code",
   "execution_count": 104,
   "metadata": {},
   "outputs": [],
   "source": [
    "# nettoyage des données\n",
    "df[['marque', 'modele']] = df['CarName'].str.split(' ', n=1, expand=True)\n",
    "\n",
    "#correction des noms des marques\n",
    "df.replace(to_replace=['maxda'], value= 'mazda', inplace=True)\n",
    "df.replace(to_replace=['vokswagen'], value= 'volkswagen', inplace=True)\n",
    "df.replace(to_replace=['vw'], value= 'volkswagen', inplace=True)\n",
    "df.replace(to_replace=['toyouta'], value= 'toyota', inplace=True)\n",
    "df.replace(to_replace=['Nissan'], value= 'nissan', inplace=True)\n",
    "df.replace(to_replace=['porcshce'], value= 'porsche', inplace=True)\n",
    "\n",
    "#convertion des mesures\n",
    "df['wheelbase'] = df['wheelbase'] * 2.54  # wheelbase : empattement en cm\n",
    "df['carlength'] = df['carlength'] * 2.54  # carlength : longueur en cm\n",
    "df['carwidth'] = df['carwidth'] * 2.54  # carwidth : largeur en cm\n",
    "df['carheight'] = df['carheight'] * 2.54  # carheight : hauteur en cm\n",
    "df['curbweight'] = df['curbweight'] * 0.453592  # curbweight : poids à vide en kg\n",
    "df['enginesize'] = df['enginesize'] * 16.3871  # enginesize : cylindrée en cm³µ\n"
   ]
  },
  {
   "cell_type": "code",
   "execution_count": null,
   "metadata": {},
   "outputs": [],
   "source": []
  },
  {
   "cell_type": "code",
   "execution_count": null,
   "metadata": {},
   "outputs": [],
   "source": []
  },
  {
   "cell_type": "code",
   "execution_count": null,
   "metadata": {},
   "outputs": [],
   "source": []
  },
  {
   "cell_type": "code",
   "execution_count": null,
   "metadata": {},
   "outputs": [],
   "source": []
  },
  {
   "cell_type": "code",
   "execution_count": null,
   "metadata": {},
   "outputs": [],
   "source": []
  }
 ],
 "metadata": {
  "kernelspec": {
   "display_name": "sklearn-env",
   "language": "python",
   "name": "python3"
  },
  "language_info": {
   "codemirror_mode": {
    "name": "ipython",
    "version": 3
   },
   "file_extension": ".py",
   "mimetype": "text/x-python",
   "name": "python",
   "nbconvert_exporter": "python",
   "pygments_lexer": "ipython3",
   "version": "3.11.3"
  },
  "orig_nbformat": 4
 },
 "nbformat": 4,
 "nbformat_minor": 2
}
